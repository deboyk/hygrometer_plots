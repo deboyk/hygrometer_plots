{
 "cells": [
  {
   "cell_type": "code",
   "execution_count": 11,
   "id": "39216f25",
   "metadata": {},
   "outputs": [
    {
     "data": {
      "application/vnd.jupyter.widget-view+json": {
       "model_id": "f4999dd160304766906a059bf2829c49",
       "version_major": 2,
       "version_minor": 0
      },
      "text/plain": [
       "HTML(value='<style>\\n    #custom-header div {\\n        margin-bottom: 10px;\\n    }\\n    #authors ul {\\n       …"
      ]
     },
     "metadata": {},
     "output_type": "display_data"
    },
    {
     "data": {
      "application/vnd.jupyter.widget-view+json": {
       "model_id": "3be185f3c888402ab73e940b8078e277",
       "version_major": 2,
       "version_minor": 0
      },
      "text/plain": [
       "HBox(children=(FileUpload(value={}, accept='.csv', button_style='info', description='Upload files', multiple=T…"
      ]
     },
     "metadata": {},
     "output_type": "display_data"
    },
    {
     "data": {
      "application/vnd.jupyter.widget-view+json": {
       "model_id": "93ffc3e242a74ff19d74840621a391f7",
       "version_major": 2,
       "version_minor": 0
      },
      "text/plain": [
       "HBox(children=(Button(description='Run', style=ButtonStyle(button_color='MediumSeaGreen')),), layout=Layout(al…"
      ]
     },
     "metadata": {},
     "output_type": "display_data"
    },
    {
     "data": {
      "application/javascript": [
       "IPython.notebook.execute_cell_range(IPython.notebook.get_selected_index()+1, IPython.notebook.ncells())"
      ],
      "text/plain": [
       "<IPython.core.display.Javascript object>"
      ]
     },
     "metadata": {},
     "output_type": "display_data"
    }
   ],
   "source": [
    "from ipywidgets.widgets import HBox,VBox, Layout, Output, Button, Label, Text, RadioButtons, IntProgress\n",
    "from IPython.display import Javascript, display, FileLink, HTML\n",
    "from ipywidgets import widgets\n",
    "\n",
    "from metadata.widgets import upload_file_button\n",
    "\n",
    "import os\n",
    "import glob as glob\n",
    "\n",
    "\n",
    "try:\n",
    "    custom_widgets\n",
    "    importlib.reload(custom_widgets)\n",
    "except NameError:\n",
    "    import custom_widgets\n",
    "\n",
    "#####################################\n",
    "######       Appearance        ######\n",
    "#####################################\n",
    "\n",
    "title='Hygrometer Plot Dashboard'\n",
    " \n",
    "description='This tool is a dashboard to view hygrometer data throughout MatSci.'\n",
    " \n",
    "# Add more than 1 author to the list using the name-email key-value pair\n",
    "authors=[{'name':'Kevin DeBoyace', 'email': 'kevin.deboyace@pfizer.com'}]\n",
    " \n",
    "# Add more instructions by adding to the list\n",
    "instructions=['text1',\n",
    "              'text2'\n",
    "             ]\n",
    "\n",
    "hdr = custom_widgets.header(title=title,\n",
    "                      description=description,\n",
    "                      authors=authors,\n",
    "                      instructions=instructions)\n",
    "\n",
    "\n",
    "\n",
    "display(hdr) # display header\n",
    "\n",
    "\n",
    "\n",
    "box_layout = Layout(display = 'flex',\n",
    "                    flex_flow = 'row',\n",
    "                    align_items = 'center',\n",
    "                    #border = '0.5px solid black',\n",
    "                    width = '40%',\n",
    "                    justify_content='center'\n",
    "                   )\n",
    "\n",
    "#####################################\n",
    "#####     Import file button    #####\n",
    "#####################################\n",
    "box_file, upload_file = upload_file_button()\n",
    "\n",
    "upload_bx = HBox([upload_file], layout = box_layout)\n",
    "#display(upload_bx)\n",
    "\n",
    "\n",
    "# Run button\n",
    "def run_all(ev): # function to run all jupyter cells below this one\n",
    "    display(Javascript('IPython.notebook.execute_cell_range(IPython.notebook.get_selected_index()+1, IPython.notebook.ncells())'))\n",
    "\n",
    "def run_next(ev): # function to run specific jupyter cell\n",
    "    display(Javascript(\"Jupyter.notebook.execute_cells([2])\"))\n",
    "\n",
    "exec_button = Button(description=\"Run\")\n",
    "exec_button.style.button_color='MediumSeaGreen'\n",
    "exec_button.on_click(run_all)\n",
    "\n",
    "\n",
    "\n",
    "\n",
    "#####################################\n",
    "#####      Display Buttons      #####\n",
    "##################################### \n",
    "# Display upload button\n",
    "upload_box = HBox([upload_file], layout = box_layout)\n",
    "display(upload_box)\n",
    "# Display execute button\n",
    "#run_bx = HBox([exec_button], layout = box_layout)\n",
    "#display(run_bx)\n",
    "# display delete buttons\n",
    "#horz_box = HBox([del_csv_button, del_ris_button], layout = box_layout)\n",
    "horz_box = HBox([exec_button], layout = box_layout)\n",
    "display(horz_box)\n",
    "\n",
    "\n",
    "# observe status (upload)\n",
    "def on_change_uploadfile(c): # currently unused\n",
    "    print(c.new)\n",
    "       "
   ]
  },
  {
   "cell_type": "code",
   "execution_count": 27,
   "id": "e7ba6441",
   "metadata": {},
   "outputs": [],
   "source": [
    "#from metadata import hygrometer_plots"
   ]
  },
  {
   "cell_type": "code",
   "execution_count": 81,
   "id": "803fdcd3",
   "metadata": {},
   "outputs": [
    {
     "ename": "IndexError",
     "evalue": "list index out of range",
     "output_type": "error",
     "traceback": [
      "\u001b[0;31m---------------------------------------------------------------------------\u001b[0m",
      "\u001b[0;31mIndexError\u001b[0m                                Traceback (most recent call last)",
      "\u001b[0;32m/tmp/ipykernel_129076/1363443506.py\u001b[0m in \u001b[0;36m<module>\u001b[0;34m\u001b[0m\n\u001b[1;32m     62\u001b[0m \u001b[0;34m\u001b[0m\u001b[0m\n\u001b[1;32m     63\u001b[0m \u001b[0;32mfor\u001b[0m \u001b[0mi\u001b[0m \u001b[0;32min\u001b[0m \u001b[0mrange\u001b[0m \u001b[0;34m(\u001b[0m\u001b[0;36m0\u001b[0m\u001b[0;34m,\u001b[0m \u001b[0mlen\u001b[0m\u001b[0;34m(\u001b[0m\u001b[0mfile_names\u001b[0m\u001b[0;34m)\u001b[0m\u001b[0;34m)\u001b[0m\u001b[0;34m:\u001b[0m\u001b[0;34m\u001b[0m\u001b[0;34m\u001b[0m\u001b[0m\n\u001b[0;32m---> 64\u001b[0;31m     \u001b[0mdf\u001b[0m\u001b[0;34m[\u001b[0m\u001b[0mi\u001b[0m\u001b[0;34m]\u001b[0m\u001b[0;34m.\u001b[0m\u001b[0mappend\u001b[0m\u001b[0;34m(\u001b[0m\u001b[0mpd\u001b[0m\u001b[0;34m.\u001b[0m\u001b[0mread_csv\u001b[0m\u001b[0;34m(\u001b[0m\u001b[0mfile_names\u001b[0m\u001b[0;34m[\u001b[0m\u001b[0mi\u001b[0m\u001b[0;34m]\u001b[0m\u001b[0;34m,\u001b[0m \u001b[0mskiprows\u001b[0m\u001b[0;34m=\u001b[0m\u001b[0;36m7\u001b[0m\u001b[0;34m,\u001b[0m \u001b[0msep\u001b[0m\u001b[0;34m=\u001b[0m\u001b[0;34m'\\s*,'\u001b[0m\u001b[0;34m,\u001b[0m \u001b[0mskipinitialspace\u001b[0m\u001b[0;34m=\u001b[0m\u001b[0;32mTrue\u001b[0m\u001b[0;34m,\u001b[0m \u001b[0mskipfooter\u001b[0m\u001b[0;34m=\u001b[0m\u001b[0;36m1\u001b[0m\u001b[0;34m,\u001b[0m \u001b[0mnames\u001b[0m\u001b[0;34m=\u001b[0m\u001b[0;34m[\u001b[0m\u001b[0;34m'rh1'\u001b[0m\u001b[0;34m,\u001b[0m\u001b[0;34m'temp1'\u001b[0m\u001b[0;34m,\u001b[0m\u001b[0;34m'rh2'\u001b[0m\u001b[0;34m,\u001b[0m\u001b[0;34m'temp2'\u001b[0m\u001b[0;34m,\u001b[0m\u001b[0;34m'time'\u001b[0m\u001b[0;34m,\u001b[0m\u001b[0;34m'date'\u001b[0m\u001b[0;34m]\u001b[0m\u001b[0;34m)\u001b[0m\u001b[0;34m)\u001b[0m\u001b[0;34m\u001b[0m\u001b[0;34m\u001b[0m\u001b[0m\n\u001b[0m\u001b[1;32m     65\u001b[0m     \u001b[0;31m#leading spaces after first row of data cause import issues. Skipping header + initial row of data appears to have fixed this issue.\u001b[0m\u001b[0;34m\u001b[0m\u001b[0;34m\u001b[0m\u001b[0;34m\u001b[0m\u001b[0m\n\u001b[1;32m     66\u001b[0m     \u001b[0;31m# final row is just four spaces/ indent --> deleted with skipfooter=1\u001b[0m\u001b[0;34m\u001b[0m\u001b[0;34m\u001b[0m\u001b[0;34m\u001b[0m\u001b[0m\n",
      "\u001b[0;31mIndexError\u001b[0m: list index out of range"
     ]
    }
   ],
   "source": [
    "#%%\n",
    "# Hygrometer_plots\n",
    "\n",
    "import matplotlib.pyplot as plt\n",
    "import numpy as np\n",
    "import pandas as pd\n",
    "import glob as glob\n",
    "import datetime\n",
    "\n",
    "from pandas.plotting import register_matplotlib_converters\n",
    "register_matplotlib_converters()\n",
    "\n",
    "\n",
    "#####################################\n",
    "#####      Import CSV files      #####\n",
    "##################################### \n",
    "def get_csv():\n",
    "    f1 = glob.glob('*.csv')\n",
    "    f2 = glob.glob('*.CSV')\n",
    "    file_names = f1+f2\n",
    "    return file_names\n",
    "\n",
    "\n",
    "file_names = get_csv() # Get csv files\n",
    "\n",
    "\n",
    "#####################################\n",
    "#####         Plotting          #####\n",
    "#####################################\n",
    "\n",
    "# plot hygrometer data \n",
    "def plot_hygrom(df):\n",
    "    cmap = plt.cm.get_cmap('tab10') # get colormap\n",
    "    # Internal channel\n",
    "    fig, ax1 = plt.subplots()\n",
    "    ax1.plot(df.datetime, df.temp1, color=cmap(0), linewidth=0.7)\n",
    "    ax1.set_xlabel('Date')\n",
    "    plt.xticks(rotation=45, ha='right')\n",
    "    ax1.set_ylabel('Int Temperature (C)', color=cmap(0))\n",
    "    ax2=ax1.twinx()\n",
    "    ax2.plot(df.datetime, df.rh1, color=cmap(1), linewidth=0.7)\n",
    "    ax2.set_ylabel('Int Relative Humidity (%)', color=cmap(1))\n",
    "    plt.xticks(rotation=45, ha='right')\n",
    "    #plt.show()\n",
    "\n",
    "    # External channel\n",
    "    fig, ax3 = plt.subplots()\n",
    "    #ax = plt.gca()\n",
    "    ax3.plot(df.datetime, df.temp2, color=cmap(2), linewidth=0.7)\n",
    "    ax3.set_xlabel('Date')\n",
    "    ax3.set_ylabel('Ext Temperature (C)', color=cmap(2))\n",
    "    ax4=ax3.twinx()\n",
    "    ax4.plot(df.datetime, df.rh2, color=cmap(4), linewidth=0.7)\n",
    "    ax4.set_ylabel('Ext Relative Humidity (%)', color=cmap(4))\n",
    "    plt.xticks(rotation=45, ha='right') # NOT WORKING ?\n",
    "\n",
    "    plt.show()\n",
    "\n",
    " \n",
    "\n",
    "#df = [] #preallocate df\n",
    "\n",
    "for i in range (0, len(file_names)):\n",
    "    df[i].append(pd.read_csv(file_names[i], skiprows=7, sep='\\s*,', skipinitialspace=True, skipfooter=1, names=['rh1','temp1','rh2','temp2','time','date']))\n",
    "    #leading spaces after first row of data cause import issues. Skipping header + initial row of data appears to have fixed this issue. \n",
    "    # final row is just four spaces/ indent --> deleted with skipfooter=1\n",
    "\n",
    "    #df.info()\n",
    "    # First RH imported with '+' - need to remove\n",
    "    df[i].replace({'\\x00':'','\\+':''},regex=True) # delete leading null and +\n",
    "    df[i].rh1 = pd.to_numeric(df[i].rh1) # convert to float\n",
    "\n",
    "    # Create new dataframe column with datetime format\n",
    "    df[i].loc[:,'datetime']= np.transpose([df[i].date + ' '+ df[i].time]) # combine date and time\n",
    "    df[i].datetime = pd.to_datetime(df[i].datetime) # convert to datetime format (NOTE: seems slow)\n",
    "\n",
    "    # delete 2012 data \n",
    "    # hygrometer defaults to year 2012 before date is set, removing this data since it is not useful\n",
    "    datecut = datetime.datetime.strptime('01-01-2013 00:00:00','%m-%d-%Y %H:%M:%S')\n",
    "    k = df.datetime > datecut\n",
    "    df[i] = df[k]\n",
    "    plot_hygrom(df[i])\n",
    "\n",
    "\n",
    "\n",
    "\n",
    "#%%\n",
    "# visualize in Jupyter notebook\n",
    "# Slider widgets to change x and y axis\n",
    "\n",
    "\n",
    "\n",
    "# save data to json (?)\n",
    "    #check if json file exists\n",
    "        # check for new data\n",
    "        # add new data and save\n",
    "    #else\n",
    "        # create json file and save\n",
    "\n",
    "# Plot for each lab\n",
    "\n",
    "\n",
    "\n",
    "# %%\n",
    "\n",
    "# %%\n"
   ]
  },
  {
   "cell_type": "code",
   "execution_count": 80,
   "id": "bb87eb59",
   "metadata": {},
   "outputs": [],
   "source": [
    "len(file_names)\n",
    "df = []"
   ]
  },
  {
   "cell_type": "code",
   "execution_count": 76,
   "id": "66089942",
   "metadata": {},
   "outputs": [
    {
     "ename": "IndexError",
     "evalue": "list index out of range",
     "output_type": "error",
     "traceback": [
      "\u001b[0;31m---------------------------------------------------------------------------\u001b[0m",
      "\u001b[0;31mIndexError\u001b[0m                                Traceback (most recent call last)",
      "\u001b[0;32m/tmp/ipykernel_129076/2171412303.py\u001b[0m in \u001b[0;36m<module>\u001b[0;34m\u001b[0m\n\u001b[0;32m----> 1\u001b[0;31m \u001b[0mdf\u001b[0m\u001b[0;34m[\u001b[0m\u001b[0mi\u001b[0m\u001b[0;34m]\u001b[0m\u001b[0;34m.\u001b[0m\u001b[0mrh1\u001b[0m\u001b[0;34m[\u001b[0m\u001b[0;36m1\u001b[0m\u001b[0;34m]\u001b[0m\u001b[0;34m\u001b[0m\u001b[0;34m\u001b[0m\u001b[0m\n\u001b[0m",
      "\u001b[0;31mIndexError\u001b[0m: list index out of range"
     ]
    }
   ],
   "source": [
    "df[i].rh1[1]"
   ]
  },
  {
   "cell_type": "code",
   "execution_count": 48,
   "id": "12ce3757",
   "metadata": {},
   "outputs": [
    {
     "ename": "AttributeError",
     "evalue": "'list' object has no attribute 'replace'",
     "output_type": "error",
     "traceback": [
      "\u001b[0;31m---------------------------------------------------------------------------\u001b[0m",
      "\u001b[0;31mAttributeError\u001b[0m                            Traceback (most recent call last)",
      "\u001b[0;32m/tmp/ipykernel_129076/127198109.py\u001b[0m in \u001b[0;36m<module>\u001b[0;34m\u001b[0m\n\u001b[1;32m      2\u001b[0m \u001b[0;31m#df.info()\u001b[0m\u001b[0;34m\u001b[0m\u001b[0;34m\u001b[0m\u001b[0;34m\u001b[0m\u001b[0m\n\u001b[1;32m      3\u001b[0m \u001b[0;31m# First RH imported with '+' - need to remove\u001b[0m\u001b[0;34m\u001b[0m\u001b[0;34m\u001b[0m\u001b[0;34m\u001b[0m\u001b[0m\n\u001b[0;32m----> 4\u001b[0;31m \u001b[0mdf\u001b[0m\u001b[0;34m[\u001b[0m\u001b[0;36m0\u001b[0m\u001b[0;34m]\u001b[0m\u001b[0;34m=\u001b[0m\u001b[0mdf\u001b[0m\u001b[0;34m.\u001b[0m\u001b[0mreplace\u001b[0m\u001b[0;34m(\u001b[0m\u001b[0;34m{\u001b[0m\u001b[0;34m'\\x00'\u001b[0m\u001b[0;34m:\u001b[0m\u001b[0;34m''\u001b[0m\u001b[0;34m,\u001b[0m\u001b[0;34m'\\+'\u001b[0m\u001b[0;34m:\u001b[0m\u001b[0;34m''\u001b[0m\u001b[0;34m}\u001b[0m\u001b[0;34m,\u001b[0m\u001b[0mregex\u001b[0m\u001b[0;34m=\u001b[0m\u001b[0;32mTrue\u001b[0m\u001b[0;34m)\u001b[0m \u001b[0;31m# delete leading null and +\u001b[0m\u001b[0;34m\u001b[0m\u001b[0;34m\u001b[0m\u001b[0m\n\u001b[0m\u001b[1;32m      5\u001b[0m \u001b[0mdf\u001b[0m\u001b[0;34m[\u001b[0m\u001b[0;36m0\u001b[0m\u001b[0;34m]\u001b[0m\u001b[0;34m.\u001b[0m\u001b[0mrh1\u001b[0m \u001b[0;34m=\u001b[0m \u001b[0mpd\u001b[0m\u001b[0;34m.\u001b[0m\u001b[0mto_numeric\u001b[0m\u001b[0;34m(\u001b[0m\u001b[0mdf\u001b[0m\u001b[0;34m.\u001b[0m\u001b[0mrh1\u001b[0m\u001b[0;34m)\u001b[0m \u001b[0;31m# convert to float\u001b[0m\u001b[0;34m\u001b[0m\u001b[0;34m\u001b[0m\u001b[0m\n\u001b[1;32m      6\u001b[0m \u001b[0;34m\u001b[0m\u001b[0m\n",
      "\u001b[0;31mAttributeError\u001b[0m: 'list' object has no attribute 'replace'"
     ]
    }
   ],
   "source": [
    "df[0]\n",
    "#df.info()\n",
    "# First RH imported with '+' - need to remove\n",
    "df[0]=df.replace({'\\x00':'','\\+':''},regex=True) # delete leading null and +\n",
    "df[0].rh1 = pd.to_numeric(df.rh1) # convert to float\n",
    "\n",
    "# Create new dataframe column with datetime format\n",
    "#df[i].loc[:,'datetime']= np.transpose([df[i].date + ' '+ df[i].time]) # combine date and time\n",
    "#df[i].datetime = pd.to_datetime(df[i].datetime) # convert to datetime format (NOTE: seems slow)\n",
    "\n",
    "# delete 2012 data \n",
    "# hygrometer defaults to year 2012 before date is set, removing this data since it is not useful\n",
    "#datecut = datetime.datetime.strptime('01-01-2013 00:00:00','%m-%d-%Y %H:%M:%S')\n",
    "#k = df.datetime > datecut\n",
    "#df[i] = df[k]"
   ]
  },
  {
   "cell_type": "code",
   "execution_count": null,
   "id": "9ec5be00",
   "metadata": {},
   "outputs": [],
   "source": [
    "df.append(pd.read_csv(file_names[i], skiprows=7, sep='\\s*,', skipinitialspace=True, skipfooter=1, names=['rh1','temp1','rh2','temp2','time','date']))\n",
    "#leading spaces after first row of data cause import issues. Skipping header + initial row of data appears to have fixed this issue. \n",
    "# final row is just four spaces/ indent --> deleted with skipfooter=1\n",
    "\n",
    "#df.info()\n",
    "# First RH imported with '+' - need to remove\n",
    "df=df.replace({'\\x00':'','\\+':''},regex=True) # delete leading null and +\n",
    "df.rh1 = pd.to_numeric(df.rh1) # convert to float\n",
    "\n",
    "# Create new dataframe column with datetime format\n",
    "df.loc[:,'datetime']= np.transpose([df.date + ' '+ df.time]) # combine date and time\n",
    "df.datetime = pd.to_datetime(df.datetime) # convert to datetime format (NOTE: seems slow)\n",
    "\n",
    "# delete 2012 data \n",
    "# hygrometer defaults to year 2012 before date is set, removing this data since it is not useful\n",
    "datecut = datetime.datetime.strptime('01-01-2013 00:00:00','%m-%d-%Y %H:%M:%S')\n",
    "k = df.datetime > datecut\n",
    "df = df[k]"
   ]
  }
 ],
 "metadata": {
  "hide_input": false,
  "kernelspec": {
   "display_name": "matsci/1.1",
   "language": "python",
   "name": "matsci_1.1"
  },
  "language_info": {
   "codemirror_mode": {
    "name": "ipython",
    "version": 3
   },
   "file_extension": ".py",
   "mimetype": "text/x-python",
   "name": "python",
   "nbconvert_exporter": "python",
   "pygments_lexer": "ipython3",
   "version": "3.7.10"
  }
 },
 "nbformat": 4,
 "nbformat_minor": 5
}
